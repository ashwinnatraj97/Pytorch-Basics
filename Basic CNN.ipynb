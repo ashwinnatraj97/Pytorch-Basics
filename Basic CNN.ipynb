{
  "nbformat": 4,
  "nbformat_minor": 0,
  "metadata": {
    "colab": {
      "name": "pytorch_lessons",
      "provenance": [],
      "collapsed_sections": [],
      "authorship_tag": "ABX9TyMAMTm5EzNu2XWlGGrhLekz",
      "include_colab_link": true
    },
    "kernelspec": {
      "name": "python3",
      "display_name": "Python 3"
    },
    "accelerator": "GPU",
    "widgets": {
      "application/vnd.jupyter.widget-state+json": {
        "f40dad80437044e5aff3c1afe8ca14c6": {
          "model_module": "@jupyter-widgets/controls",
          "model_name": "HBoxModel",
          "state": {
            "_view_name": "HBoxView",
            "_dom_classes": [],
            "_model_name": "HBoxModel",
            "_view_module": "@jupyter-widgets/controls",
            "_model_module_version": "1.5.0",
            "_view_count": null,
            "_view_module_version": "1.5.0",
            "box_style": "",
            "layout": "IPY_MODEL_bb8938e6f061489296b7d03f2f3aa11b",
            "_model_module": "@jupyter-widgets/controls",
            "children": [
              "IPY_MODEL_15f995f6e5434866859dbacc5daaaee2",
              "IPY_MODEL_cdbdc786d60b416790b3c108533b0d0b"
            ]
          }
        },
        "bb8938e6f061489296b7d03f2f3aa11b": {
          "model_module": "@jupyter-widgets/base",
          "model_name": "LayoutModel",
          "state": {
            "_view_name": "LayoutView",
            "grid_template_rows": null,
            "right": null,
            "justify_content": null,
            "_view_module": "@jupyter-widgets/base",
            "overflow": null,
            "_model_module_version": "1.2.0",
            "_view_count": null,
            "flex_flow": null,
            "width": null,
            "min_width": null,
            "border": null,
            "align_items": null,
            "bottom": null,
            "_model_module": "@jupyter-widgets/base",
            "top": null,
            "grid_column": null,
            "overflow_y": null,
            "overflow_x": null,
            "grid_auto_flow": null,
            "grid_area": null,
            "grid_template_columns": null,
            "flex": null,
            "_model_name": "LayoutModel",
            "justify_items": null,
            "grid_row": null,
            "max_height": null,
            "align_content": null,
            "visibility": null,
            "align_self": null,
            "height": null,
            "min_height": null,
            "padding": null,
            "grid_auto_rows": null,
            "grid_gap": null,
            "max_width": null,
            "order": null,
            "_view_module_version": "1.2.0",
            "grid_template_areas": null,
            "object_position": null,
            "object_fit": null,
            "grid_auto_columns": null,
            "margin": null,
            "display": null,
            "left": null
          }
        },
        "15f995f6e5434866859dbacc5daaaee2": {
          "model_module": "@jupyter-widgets/controls",
          "model_name": "FloatProgressModel",
          "state": {
            "_view_name": "ProgressView",
            "style": "IPY_MODEL_e2cd061482294f1aa6c88da13f2b2e74",
            "_dom_classes": [],
            "description": "",
            "_model_name": "FloatProgressModel",
            "bar_style": "info",
            "max": 1,
            "_view_module": "@jupyter-widgets/controls",
            "_model_module_version": "1.5.0",
            "value": 1,
            "_view_count": null,
            "_view_module_version": "1.5.0",
            "orientation": "horizontal",
            "min": 0,
            "description_tooltip": null,
            "_model_module": "@jupyter-widgets/controls",
            "layout": "IPY_MODEL_763c3f36ad57444aaf7de95ba8906b83"
          }
        },
        "cdbdc786d60b416790b3c108533b0d0b": {
          "model_module": "@jupyter-widgets/controls",
          "model_name": "HTMLModel",
          "state": {
            "_view_name": "HTMLView",
            "style": "IPY_MODEL_690b469124484a17b1dd4048fdd988c5",
            "_dom_classes": [],
            "description": "",
            "_model_name": "HTMLModel",
            "placeholder": "​",
            "_view_module": "@jupyter-widgets/controls",
            "_model_module_version": "1.5.0",
            "value": " 170500096/? [00:30&lt;00:00, 14023022.17it/s]",
            "_view_count": null,
            "_view_module_version": "1.5.0",
            "description_tooltip": null,
            "_model_module": "@jupyter-widgets/controls",
            "layout": "IPY_MODEL_241926f8eebf45a491d2c6a3efa5c4bc"
          }
        },
        "e2cd061482294f1aa6c88da13f2b2e74": {
          "model_module": "@jupyter-widgets/controls",
          "model_name": "ProgressStyleModel",
          "state": {
            "_view_name": "StyleView",
            "_model_name": "ProgressStyleModel",
            "description_width": "initial",
            "_view_module": "@jupyter-widgets/base",
            "_model_module_version": "1.5.0",
            "_view_count": null,
            "_view_module_version": "1.2.0",
            "bar_color": null,
            "_model_module": "@jupyter-widgets/controls"
          }
        },
        "763c3f36ad57444aaf7de95ba8906b83": {
          "model_module": "@jupyter-widgets/base",
          "model_name": "LayoutModel",
          "state": {
            "_view_name": "LayoutView",
            "grid_template_rows": null,
            "right": null,
            "justify_content": null,
            "_view_module": "@jupyter-widgets/base",
            "overflow": null,
            "_model_module_version": "1.2.0",
            "_view_count": null,
            "flex_flow": null,
            "width": null,
            "min_width": null,
            "border": null,
            "align_items": null,
            "bottom": null,
            "_model_module": "@jupyter-widgets/base",
            "top": null,
            "grid_column": null,
            "overflow_y": null,
            "overflow_x": null,
            "grid_auto_flow": null,
            "grid_area": null,
            "grid_template_columns": null,
            "flex": null,
            "_model_name": "LayoutModel",
            "justify_items": null,
            "grid_row": null,
            "max_height": null,
            "align_content": null,
            "visibility": null,
            "align_self": null,
            "height": null,
            "min_height": null,
            "padding": null,
            "grid_auto_rows": null,
            "grid_gap": null,
            "max_width": null,
            "order": null,
            "_view_module_version": "1.2.0",
            "grid_template_areas": null,
            "object_position": null,
            "object_fit": null,
            "grid_auto_columns": null,
            "margin": null,
            "display": null,
            "left": null
          }
        },
        "690b469124484a17b1dd4048fdd988c5": {
          "model_module": "@jupyter-widgets/controls",
          "model_name": "DescriptionStyleModel",
          "state": {
            "_view_name": "StyleView",
            "_model_name": "DescriptionStyleModel",
            "description_width": "",
            "_view_module": "@jupyter-widgets/base",
            "_model_module_version": "1.5.0",
            "_view_count": null,
            "_view_module_version": "1.2.0",
            "_model_module": "@jupyter-widgets/controls"
          }
        },
        "241926f8eebf45a491d2c6a3efa5c4bc": {
          "model_module": "@jupyter-widgets/base",
          "model_name": "LayoutModel",
          "state": {
            "_view_name": "LayoutView",
            "grid_template_rows": null,
            "right": null,
            "justify_content": null,
            "_view_module": "@jupyter-widgets/base",
            "overflow": null,
            "_model_module_version": "1.2.0",
            "_view_count": null,
            "flex_flow": null,
            "width": null,
            "min_width": null,
            "border": null,
            "align_items": null,
            "bottom": null,
            "_model_module": "@jupyter-widgets/base",
            "top": null,
            "grid_column": null,
            "overflow_y": null,
            "overflow_x": null,
            "grid_auto_flow": null,
            "grid_area": null,
            "grid_template_columns": null,
            "flex": null,
            "_model_name": "LayoutModel",
            "justify_items": null,
            "grid_row": null,
            "max_height": null,
            "align_content": null,
            "visibility": null,
            "align_self": null,
            "height": null,
            "min_height": null,
            "padding": null,
            "grid_auto_rows": null,
            "grid_gap": null,
            "max_width": null,
            "order": null,
            "_view_module_version": "1.2.0",
            "grid_template_areas": null,
            "object_position": null,
            "object_fit": null,
            "grid_auto_columns": null,
            "margin": null,
            "display": null,
            "left": null
          }
        }
      }
    }
  },
  "cells": [
    {
      "cell_type": "markdown",
      "metadata": {
        "id": "view-in-github",
        "colab_type": "text"
      },
      "source": [
        "<a href=\"https://colab.research.google.com/github/ashwinnatraj97/Pytorch-Basics/blob/master/Basic%20CNN.ipynb\" target=\"_parent\"><img src=\"https://colab.research.google.com/assets/colab-badge.svg\" alt=\"Open In Colab\"/></a>"
      ]
    },
    {
      "cell_type": "markdown",
      "metadata": {
        "id": "naqRd3vL1SSr",
        "colab_type": "text"
      },
      "source": [
        "#Introduction to Pytorch and Its Essentials\n",
        "\n",
        "We shall start with the basics of Pytorch"
      ]
    },
    {
      "cell_type": "markdown",
      "metadata": {
        "id": "QB5Xaaz1Vgub",
        "colab_type": "text"
      },
      "source": [
        "This imports Pytorch and we can check the version on Pytorch we are using currently"
      ]
    },
    {
      "cell_type": "code",
      "metadata": {
        "id": "V4DCy_GI0ejc",
        "colab_type": "code",
        "colab": {
          "base_uri": "https://localhost:8080/",
          "height": 34
        },
        "outputId": "28b702e3-14e2-4270-b1f0-81bb6c269ad4"
      },
      "source": [
        "import torch\n",
        "print(torch.__version__)"
      ],
      "execution_count": null,
      "outputs": [
        {
          "output_type": "stream",
          "text": [
            "1.6.0+cu101\n"
          ],
          "name": "stdout"
        }
      ]
    },
    {
      "cell_type": "markdown",
      "metadata": {
        "id": "Sr4u7hfZvrsU",
        "colab_type": "text"
      },
      "source": [
        "###Basic Tensor Initializations"
      ]
    },
    {
      "cell_type": "code",
      "metadata": {
        "id": "VsrjRFayW-w4",
        "colab_type": "code",
        "colab": {
          "base_uri": "https://localhost:8080/",
          "height": 493
        },
        "outputId": "c0fa978d-ece0-411f-a71d-db955535da25"
      },
      "source": [
        "x = torch.empty(5, 3) #Creates a 5x3 Tensor Placeholder/Variable\n",
        "print(x) \n",
        "\n",
        "x = torch.rand(5, 3) #Initializes a 5x3 Matrix using a Normal Distribution\n",
        "print(x)\n",
        "\n",
        "x = torch.zeros(5, 3, dtype=torch.long) #Initializes a Zero Matrix of size 5x3 of type long\n",
        "print(x)\n",
        "\n",
        "x = torch.tensor([[4.0, 2.2], [7.8, 9.6]]) #Direct Initialization of Data\n",
        "print(x)\n",
        "\n",
        "x = x.new_ones(5, 3, dtype=torch.double) #Use Properties of X unless specifiesd such as dtype\n",
        "print(x)\n",
        "\n",
        "x = torch.randn_like(x, dtype=torch.float) #Create Tensors of Similar Size\n",
        "print(x)\n",
        "\n",
        "print(x.size()) #Prints the Size of Tensor"
      ],
      "execution_count": null,
      "outputs": [
        {
          "output_type": "stream",
          "text": [
            "tensor([[1.7962e-37, 0.0000e+00, 3.3631e-44],\n",
            "        [0.0000e+00,        nan, 0.0000e+00],\n",
            "        [1.1578e+27, 1.1362e+30, 7.1547e+22],\n",
            "        [4.5828e+30, 1.2121e+04, 7.1846e+22],\n",
            "        [9.2198e-39, 7.0374e+22, 2.6706e-36]])\n",
            "tensor([[0.7174, 0.2058, 0.2454],\n",
            "        [0.8064, 0.3703, 0.1346],\n",
            "        [0.3821, 0.7812, 0.7949],\n",
            "        [0.9147, 0.1320, 0.7355],\n",
            "        [0.0087, 0.0111, 0.1342]])\n",
            "tensor([[0, 0, 0],\n",
            "        [0, 0, 0],\n",
            "        [0, 0, 0],\n",
            "        [0, 0, 0],\n",
            "        [0, 0, 0]])\n",
            "tensor([[4.0000, 2.2000],\n",
            "        [7.8000, 9.6000]])\n",
            "tensor([[1., 1., 1.],\n",
            "        [1., 1., 1.],\n",
            "        [1., 1., 1.],\n",
            "        [1., 1., 1.],\n",
            "        [1., 1., 1.]], dtype=torch.float64)\n",
            "tensor([[-0.4046, -0.2132,  1.7764],\n",
            "        [-2.2052, -0.3633,  1.8788],\n",
            "        [-2.1924,  1.7863, -2.1235],\n",
            "        [-1.5816, -0.8498,  1.0643],\n",
            "        [ 0.4672, -0.4351, -0.8960]])\n",
            "torch.Size([5, 3])\n"
          ],
          "name": "stdout"
        }
      ]
    },
    {
      "cell_type": "markdown",
      "metadata": {
        "id": "__Lcd_gFwhaE",
        "colab_type": "text"
      },
      "source": [
        "###Tensor Operations"
      ]
    },
    {
      "cell_type": "code",
      "metadata": {
        "id": "pUXCVYmhwlf3",
        "colab_type": "code",
        "colab": {
          "base_uri": "https://localhost:8080/",
          "height": 547
        },
        "outputId": "daccb488-2b00-47a9-b171-652bc555ff41"
      },
      "source": [
        "y = torch.rand_like(x)\n",
        "print(torch.add(x,y)) # Adds X and Y and prints them\n",
        "\n",
        "output = torch.empty(x.size()) #To store data in a variable we need to create it beforehand so that we are able to store the data\n",
        "#Like normal python we can also create variable on the go, but while creating Networks it's simpler to give a tensor of defined size beforehand\n",
        "torch.add(x,y,out=output)\n",
        "print(output)\n",
        "\n",
        "y.add_(x) #This does y = y + x\n",
        "print(y)\n",
        "#Any operation that mutates a tensor in-place is post-fixed with an _. For example: x.copy_(y), x.t_(), will change x.\n",
        "\n",
        "#We can do Numpy indexing to get specific rows and columns\n",
        "print(y[:, 1])\n",
        "print(y[:, :2]) #Takes out 0th and 1st column\n",
        "\n",
        "x = torch.randn(4,4)\n",
        "y = x.view(16) #Same a Numpy Resize\n",
        "z = x.view(-1,8) #-1 is taken care by torch \n",
        "print(x, y, z)\n",
        "print(x.size(), y.size(), z.size())\n",
        "\n",
        "x = torch.randn(1)\n",
        "print(x)\n",
        "print(x.item()) #Takes out the Single Entry as a python number"
      ],
      "execution_count": null,
      "outputs": [
        {
          "output_type": "stream",
          "text": [
            "tensor([[ 0.4626,  0.6435,  2.0946],\n",
            "        [-1.5225, -0.2687,  2.5177],\n",
            "        [-1.3197,  2.6632, -1.8225],\n",
            "        [-0.8503, -0.7458,  1.2269],\n",
            "        [ 0.5563, -0.1660, -0.3268]])\n",
            "tensor([[ 0.4626,  0.6435,  2.0946],\n",
            "        [-1.5225, -0.2687,  2.5177],\n",
            "        [-1.3197,  2.6632, -1.8225],\n",
            "        [-0.8503, -0.7458,  1.2269],\n",
            "        [ 0.5563, -0.1660, -0.3268]])\n",
            "tensor([[ 0.4626,  0.6435,  2.0946],\n",
            "        [-1.5225, -0.2687,  2.5177],\n",
            "        [-1.3197,  2.6632, -1.8225],\n",
            "        [-0.8503, -0.7458,  1.2269],\n",
            "        [ 0.5563, -0.1660, -0.3268]])\n",
            "tensor([ 0.6435, -0.2687,  2.6632, -0.7458, -0.1660])\n",
            "tensor([[ 0.4626,  0.6435],\n",
            "        [-1.5225, -0.2687],\n",
            "        [-1.3197,  2.6632],\n",
            "        [-0.8503, -0.7458],\n",
            "        [ 0.5563, -0.1660]])\n",
            "tensor([[-0.2150, -0.3506,  1.6998,  1.0362],\n",
            "        [ 2.0662,  0.3569,  0.6522,  0.3944],\n",
            "        [ 0.5827, -0.9500, -1.1749,  0.1993],\n",
            "        [-1.1402,  0.2505,  0.0707,  0.8591]]) tensor([-0.2150, -0.3506,  1.6998,  1.0362,  2.0662,  0.3569,  0.6522,  0.3944,\n",
            "         0.5827, -0.9500, -1.1749,  0.1993, -1.1402,  0.2505,  0.0707,  0.8591]) tensor([[-0.2150, -0.3506,  1.6998,  1.0362,  2.0662,  0.3569,  0.6522,  0.3944],\n",
            "        [ 0.5827, -0.9500, -1.1749,  0.1993, -1.1402,  0.2505,  0.0707,  0.8591]])\n",
            "torch.Size([4, 4]) torch.Size([16]) torch.Size([2, 8])\n",
            "tensor([-0.6684])\n",
            "-0.6683599352836609\n"
          ],
          "name": "stdout"
        }
      ]
    },
    {
      "cell_type": "markdown",
      "metadata": {
        "id": "iZ21zEX7z-L7",
        "colab_type": "text"
      },
      "source": [
        "###Interactions with Numpy"
      ]
    },
    {
      "cell_type": "code",
      "metadata": {
        "id": "WsU3O_F40KZo",
        "colab_type": "code",
        "colab": {
          "base_uri": "https://localhost:8080/",
          "height": 357
        },
        "outputId": "ba0d8851-e04e-4831-f4d0-c17e94f83bcc"
      },
      "source": [
        "import numpy as np\n",
        "\n",
        "a = torch.ones(5,5)\n",
        "print(a)\n",
        "b = a.numpy() #This converts a torch tensor to a Numpy array\n",
        "print(b)\n",
        "\n",
        "a = np.ones((5,5))\n",
        "print(a)\n",
        "b = torch.from_numpy(a) #This converts a numpy array to a torch Tensor\n",
        "print(b)"
      ],
      "execution_count": null,
      "outputs": [
        {
          "output_type": "stream",
          "text": [
            "tensor([[1., 1., 1., 1., 1.],\n",
            "        [1., 1., 1., 1., 1.],\n",
            "        [1., 1., 1., 1., 1.],\n",
            "        [1., 1., 1., 1., 1.],\n",
            "        [1., 1., 1., 1., 1.]])\n",
            "[[1. 1. 1. 1. 1.]\n",
            " [1. 1. 1. 1. 1.]\n",
            " [1. 1. 1. 1. 1.]\n",
            " [1. 1. 1. 1. 1.]\n",
            " [1. 1. 1. 1. 1.]]\n",
            "[[1. 1. 1. 1. 1.]\n",
            " [1. 1. 1. 1. 1.]\n",
            " [1. 1. 1. 1. 1.]\n",
            " [1. 1. 1. 1. 1.]\n",
            " [1. 1. 1. 1. 1.]]\n",
            "tensor([[1., 1., 1., 1., 1.],\n",
            "        [1., 1., 1., 1., 1.],\n",
            "        [1., 1., 1., 1., 1.],\n",
            "        [1., 1., 1., 1., 1.],\n",
            "        [1., 1., 1., 1., 1.]], dtype=torch.float64)\n"
          ],
          "name": "stdout"
        }
      ]
    },
    {
      "cell_type": "markdown",
      "metadata": {
        "id": "g5wXCGPC9Wl0",
        "colab_type": "text"
      },
      "source": [
        "###CUDA Tensors"
      ]
    },
    {
      "cell_type": "code",
      "metadata": {
        "id": "mzg_vHRI9VX3",
        "colab_type": "code",
        "colab": {
          "base_uri": "https://localhost:8080/",
          "height": 51
        },
        "outputId": "551bbbb4-5485-4c14-bb35-e137f12df615"
      },
      "source": [
        "# let us run this cell only if CUDA is available\n",
        "# We will use ``torch.device`` objects to move tensors in and out of GPU\n",
        "if torch.cuda.is_available():\n",
        "    device = torch.device(\"cuda\")          # a CUDA device object\n",
        "    y = torch.ones_like(x, device=device)  # directly create a tensor on GPU\n",
        "    x = x.to(device)                       # or just use strings ``.to(\"cuda\")``\n",
        "    z = x + y\n",
        "    print(z)\n",
        "    print(z.to(\"cpu\", torch.double))       # ``.to`` can also change dtype together!"
      ],
      "execution_count": null,
      "outputs": [
        {
          "output_type": "stream",
          "text": [
            "tensor([0.3316], device='cuda:0')\n",
            "tensor([0.3316], dtype=torch.float64)\n"
          ],
          "name": "stdout"
        }
      ]
    },
    {
      "cell_type": "code",
      "metadata": {
        "id": "MjLz01NOnR3V",
        "colab_type": "code",
        "colab": {}
      },
      "source": [
        ""
      ],
      "execution_count": null,
      "outputs": []
    },
    {
      "cell_type": "markdown",
      "metadata": {
        "id": "77V_aA5onTzl",
        "colab_type": "text"
      },
      "source": [
        "# AutoGrad - Automatic Gradient Computation for Tensors"
      ]
    },
    {
      "cell_type": "code",
      "metadata": {
        "id": "7lE77qHknySK",
        "colab_type": "code",
        "colab": {
          "base_uri": "https://localhost:8080/",
          "height": 272
        },
        "outputId": "be3aa225-9f8b-4b25-ef14-7a7f87d39f57"
      },
      "source": [
        "import torch\n",
        "\n",
        "x = torch.ones(3,3, requires_grad=True) #This saves the history of gradients for Tensor X\n",
        "print(x)\n",
        "y = x+2\n",
        "print(y)\n",
        "\n",
        "print(y.grad_fn)\n",
        "\n",
        "z = 3 * y * y\n",
        "print(z)\n",
        "\n",
        "v = torch.ones_like(x)\n",
        "z.backward(v) # This does a Jacobian of dz/dx and puts the values of x = v after the gradient computation\n",
        "# z = 3y^2 = 3(x+2)^2. Hence dz/dx = 6(x+2) and putting x = v ie 1 we get 18\n",
        "print(x.grad)\n",
        "\n",
        "print(x.requires_grad)\n",
        "y = x.detach() # This has the same tensor value but removes the history of gradients\n",
        "print(y.requires_grad)"
      ],
      "execution_count": null,
      "outputs": [
        {
          "output_type": "stream",
          "text": [
            "tensor([[1., 1., 1.],\n",
            "        [1., 1., 1.],\n",
            "        [1., 1., 1.]], requires_grad=True)\n",
            "tensor([[3., 3., 3.],\n",
            "        [3., 3., 3.],\n",
            "        [3., 3., 3.]], grad_fn=<AddBackward0>)\n",
            "<AddBackward0 object at 0x7f09cb3f3b38>\n",
            "tensor([[27., 27., 27.],\n",
            "        [27., 27., 27.],\n",
            "        [27., 27., 27.]], grad_fn=<MulBackward0>)\n",
            "tensor([[18., 18., 18.],\n",
            "        [18., 18., 18.],\n",
            "        [18., 18., 18.]])\n",
            "True\n",
            "False\n"
          ],
          "name": "stdout"
        }
      ]
    },
    {
      "cell_type": "markdown",
      "metadata": {
        "id": "OZJiyKqLA1jJ",
        "colab_type": "text"
      },
      "source": [
        "# Basic CNN using Pytorch"
      ]
    },
    {
      "cell_type": "code",
      "metadata": {
        "id": "AJxnx9rymGU2",
        "colab_type": "code",
        "colab": {}
      },
      "source": [
        "import torch\n",
        "import torchvision\n",
        "import torchvision.transforms as transforms"
      ],
      "execution_count": null,
      "outputs": []
    },
    {
      "cell_type": "markdown",
      "metadata": {
        "id": "oE-kFtsNmpHE",
        "colab_type": "text"
      },
      "source": [
        "### CIFAR10 Dataset Loading and prepping in Pytorch"
      ]
    },
    {
      "cell_type": "code",
      "metadata": {
        "id": "0ur1a4kBmwiY",
        "colab_type": "code",
        "colab": {
          "base_uri": "https://localhost:8080/",
          "height": 100,
          "referenced_widgets": [
            "f40dad80437044e5aff3c1afe8ca14c6",
            "bb8938e6f061489296b7d03f2f3aa11b",
            "15f995f6e5434866859dbacc5daaaee2",
            "cdbdc786d60b416790b3c108533b0d0b",
            "e2cd061482294f1aa6c88da13f2b2e74",
            "763c3f36ad57444aaf7de95ba8906b83",
            "690b469124484a17b1dd4048fdd988c5",
            "241926f8eebf45a491d2c6a3efa5c4bc"
          ]
        },
        "outputId": "bb8c45c5-505e-4cf3-f8d2-dca6d504aaff"
      },
      "source": [
        "transform = transforms.Compose([transforms.ToTensor(), transforms.Normalize((0.5, 0.5, 0.5), (0.5, 0.5, 0.5))])\n",
        "\n",
        "trainset = torchvision.datasets.CIFAR10(root='./data', train=True, download=True, transform=transform)\n",
        "trainloader = torch.utils.data.DataLoader(trainset, batch_size=4, shuffle=True, num_workers=2)\n",
        "\n",
        "testset = torchvision.datasets.CIFAR10(root='./data', train=False, download=True, transform=transform)\n",
        "testloader = torch.utils.data.DataLoader(testset, batch_size=4, shuffle=False, num_workers=2)\n",
        "\n",
        "classes = ('plane', 'car', 'bird', 'cat','deer', 'dog', 'frog', 'horse', 'ship', 'truck')\n"
      ],
      "execution_count": null,
      "outputs": [
        {
          "output_type": "stream",
          "text": [
            "Downloading https://www.cs.toronto.edu/~kriz/cifar-10-python.tar.gz to ./data/cifar-10-python.tar.gz\n"
          ],
          "name": "stdout"
        },
        {
          "output_type": "display_data",
          "data": {
            "application/vnd.jupyter.widget-view+json": {
              "model_id": "f40dad80437044e5aff3c1afe8ca14c6",
              "version_minor": 0,
              "version_major": 2
            },
            "text/plain": [
              "HBox(children=(FloatProgress(value=1.0, bar_style='info', max=1.0), HTML(value='')))"
            ]
          },
          "metadata": {
            "tags": []
          }
        },
        {
          "output_type": "stream",
          "text": [
            "Extracting ./data/cifar-10-python.tar.gz to ./data\n",
            "Files already downloaded and verified\n"
          ],
          "name": "stdout"
        }
      ]
    },
    {
      "cell_type": "markdown",
      "metadata": {
        "id": "T18XxYkDpu6o",
        "colab_type": "text"
      },
      "source": [
        "### Displaying Images from Training Dataset"
      ]
    },
    {
      "cell_type": "code",
      "metadata": {
        "id": "oi7ITZImoghg",
        "colab_type": "code",
        "colab": {
          "base_uri": "https://localhost:8080/",
          "height": 155
        },
        "outputId": "af6dc2db-7c76-4f0b-d0cf-9e7a24a28aac"
      },
      "source": [
        "import matplotlib.pyplot as plt\n",
        "import numpy as np\n",
        "\n",
        "def imshow(img):\n",
        "    img = img /2 + 0.5    # unnormalize\n",
        "    npimg = img.numpy()\n",
        "    plt.imshow(np.transpose(npimg, (1, 2, 0)))\n",
        "    plt.show()\n",
        "\n",
        "# get some random training images\n",
        "dataiter = iter(trainloader)\n",
        "images, labels = dataiter.next()\n",
        "\n",
        "# show images\n",
        "imshow(torchvision.utils.make_grid(images))\n",
        "# print labels\n",
        "print(' '.join('%5s' % classes[labels[j]] for j in range(4)))"
      ],
      "execution_count": null,
      "outputs": [
        {
          "output_type": "display_data",
          "data": {
            "image/png": "[encoded data removed]",
            "text/plain": [
              "<Figure size 432x288 with 1 Axes>"
            ]
          },
          "metadata": {
            "tags": [],
            "needs_background": "light"
          }
        },
        {
          "output_type": "stream",
          "text": [
            " bird plane  bird  deer\n"
          ],
          "name": "stdout"
        }
      ]
    },
    {
      "cell_type": "markdown",
      "metadata": {
        "id": "tT_S5OaCqc_P",
        "colab_type": "text"
      },
      "source": [
        "### Define a Convolutional Neural Network"
      ]
    },
    {
      "cell_type": "code",
      "metadata": {
        "id": "BunvtdVPqJ6p",
        "colab_type": "code",
        "colab": {
          "base_uri": "https://localhost:8080/",
          "height": 170
        },
        "outputId": "fb4be59f-8e37-478b-8e62-f021adff8743"
      },
      "source": [
        "import torch.nn as nn\n",
        "import torch.nn.functional as F\n",
        "\n",
        "device = torch.device(\"cuda:0\" if torch.cuda.is_available() else \"cpu\")\n",
        "\n",
        "# Assuming that we are on a CUDA machine, this should print a CUDA device:\n",
        "\n",
        "print(device)\n",
        "\n",
        "class Net(nn.Module):\n",
        "  def __init__(self):\n",
        "    super(Net, self).__init__()\n",
        "    self.conv1 = nn.Conv2d(3,6,5)\n",
        "    self.pool = nn.MaxPool2d(2,2)\n",
        "    self.conv2 = nn.Conv2d(6,16,5)\n",
        "    self.fc1 = nn.Linear(5*16*5, 120)\n",
        "    self.fc2 = nn.Linear(120, 84)\n",
        "    self.fc3 = nn.Linear(84,10)\n",
        "  \n",
        "  def forward(self, x):\n",
        "    x = self.pool(F.relu(self.conv1(x)))\n",
        "    x = self.pool(F.relu(self.conv2(x)))\n",
        "    x = x.view(-1, 16 * 5 * 5)\n",
        "    x = F.relu(self.fc1(x))\n",
        "    x = F.relu(self.fc2(x))\n",
        "    x = self.fc3(x)\n",
        "    return x\n",
        "\n",
        "\n",
        "net = Net()\n",
        "net.to(device)"
      ],
      "execution_count": null,
      "outputs": [
        {
          "output_type": "stream",
          "text": [
            "cuda:0\n"
          ],
          "name": "stdout"
        },
        {
          "output_type": "execute_result",
          "data": {
            "text/plain": [
              "Net(\n",
              "  (conv1): Conv2d(3, 6, kernel_size=(5, 5), stride=(1, 1))\n",
              "  (pool): MaxPool2d(kernel_size=2, stride=2, padding=0, dilation=1, ceil_mode=False)\n",
              "  (conv2): Conv2d(6, 16, kernel_size=(5, 5), stride=(1, 1))\n",
              "  (fc1): Linear(in_features=400, out_features=120, bias=True)\n",
              "  (fc2): Linear(in_features=120, out_features=84, bias=True)\n",
              "  (fc3): Linear(in_features=84, out_features=10, bias=True)\n",
              ")"
            ]
          },
          "metadata": {
            "tags": []
          },
          "execution_count": 5
        }
      ]
    },
    {
      "cell_type": "markdown",
      "metadata": {
        "id": "EaF73r3itfYq",
        "colab_type": "text"
      },
      "source": [
        "### Defining Loss Function and Optimizer"
      ]
    },
    {
      "cell_type": "code",
      "metadata": {
        "id": "vNcOy-YbtnCu",
        "colab_type": "code",
        "colab": {}
      },
      "source": [
        "import torch.optim as optim\n",
        "\n",
        "criterion = nn.CrossEntropyLoss()\n",
        "optimizer = optim.SGD(net.parameters(), lr=0.001, momentum=0.9)"
      ],
      "execution_count": null,
      "outputs": []
    },
    {
      "cell_type": "markdown",
      "metadata": {
        "id": "1D_k6mLdtsej",
        "colab_type": "text"
      },
      "source": [
        "### Training the Network"
      ]
    },
    {
      "cell_type": "code",
      "metadata": {
        "id": "gnZ_v0hNtw8X",
        "colab_type": "code",
        "colab": {
          "base_uri": "https://localhost:8080/",
          "height": 238
        },
        "outputId": "f81dd851-4f39-4b34-f1ad-c7f127132944"
      },
      "source": [
        "for epoch in range(2):  # loop over the dataset multiple times\n",
        "\n",
        "    running_loss = 0.0\n",
        "    for i, data in enumerate(trainloader, 0):\n",
        "        # get the inputs; data is a list of [inputs, labels]\n",
        "        # inputs, labels = data\n",
        "        inputs, labels = data[0].to(device), data[1].to(device)\n",
        "\n",
        "        # zero the parameter gradients\n",
        "        optimizer.zero_grad()\n",
        "\n",
        "        # forward + backward + optimize\n",
        "        outputs = net(inputs)\n",
        "        loss = criterion(outputs, labels)\n",
        "        loss.backward()\n",
        "        optimizer.step()\n",
        "\n",
        "        # print statistics\n",
        "        running_loss += loss.item()\n",
        "        if i % 2000 == 1999:    # print every 2000 mini-batches\n",
        "            print('[%d, %5d] loss: %.3f' %\n",
        "                  (epoch + 1, i + 1, running_loss / 2000))\n",
        "            running_loss = 0.0\n",
        "\n",
        "print('Finished Training')\n",
        "\n",
        "PATH = './cifar_net.pth'\n",
        "torch.save(net.state_dict(), PATH)"
      ],
      "execution_count": null,
      "outputs": [
        {
          "output_type": "stream",
          "text": [
            "[1,  2000] loss: 2.186\n",
            "[1,  4000] loss: 1.833\n",
            "[1,  6000] loss: 1.679\n",
            "[1,  8000] loss: 1.568\n",
            "[1, 10000] loss: 1.535\n",
            "[1, 12000] loss: 1.471\n",
            "[2,  2000] loss: 1.432\n",
            "[2,  4000] loss: 1.386\n",
            "[2,  6000] loss: 1.356\n",
            "[2,  8000] loss: 1.351\n",
            "[2, 10000] loss: 1.300\n",
            "[2, 12000] loss: 1.274\n",
            "Finished Training\n"
          ],
          "name": "stdout"
        }
      ]
    },
    {
      "cell_type": "markdown",
      "metadata": {
        "id": "zD9qPWjZt8vB",
        "colab_type": "text"
      },
      "source": [
        "### Testing the Network"
      ]
    },
    {
      "cell_type": "code",
      "metadata": {
        "id": "LWPVSeDiuGgL",
        "colab_type": "code",
        "colab": {
          "base_uri": "https://localhost:8080/",
          "height": 359
        },
        "outputId": "d8ab99e5-6bbe-40ce-c6f4-e91e7d6eacae"
      },
      "source": [
        "dataiter = iter(testloader)\n",
        "images, labels = dataiter.next()\n",
        "\n",
        "# print images\n",
        "imshow(torchvision.utils.make_grid(images))\n",
        "print('GroundTruth: ', ' '.join('%5s' % classes[labels[j]] for j in range(4)))\n",
        "\n",
        "net = Net()\n",
        "net.load_state_dict(torch.load(PATH))\n",
        "\n",
        "outputs = net(images)\n",
        "\n",
        "_, predicted = torch.max(outputs, 1)\n",
        "\n",
        "print('Predicted: ', ' '.join('%5s' % classes[predicted[j]]\n",
        "                              for j in range(4)))\n",
        "\n",
        "correct = 0\n",
        "total = 0\n",
        "with torch.no_grad():\n",
        "    for data in testloader:\n",
        "        images, labels = data\n",
        "        outputs = net(images)\n",
        "        _, predicted = torch.max(outputs.data, 1)\n",
        "        total += labels.size(0)\n",
        "        correct += (predicted == labels).sum().item()\n",
        "\n",
        "print('Accuracy of the network on the 10000 test images: %d %%' % (\n",
        "    100 * correct / total))\n",
        "\n",
        "class_correct = list(0. for i in range(10))\n",
        "class_total = list(0. for i in range(10))\n",
        "with torch.no_grad():\n",
        "    for data in testloader:\n",
        "        images, labels = data\n",
        "        outputs = net(images)\n",
        "        _, predicted = torch.max(outputs, 1)\n",
        "        c = (predicted == labels).squeeze()\n",
        "        for i in range(4):\n",
        "            label = labels[i]\n",
        "            class_correct[label] += c[i].item()\n",
        "            class_total[label] += 1\n",
        "\n",
        "\n",
        "for i in range(10):\n",
        "    print('Accuracy of %5s : %2d %%' % (\n",
        "        classes[i], 100 * class_correct[i] / class_total[i]))"
      ],
      "execution_count": null,
      "outputs": [
        {
          "output_type": "display_data",
          "data": {
            "image/png": "[encoded data removed]",
            "text/plain": [
              "<Figure size 432x288 with 1 Axes>"
            ]
          },
          "metadata": {
            "tags": [],
            "needs_background": "light"
          }
        },
        {
          "output_type": "stream",
          "text": [
            "GroundTruth:    cat  ship  ship plane\n",
            "Predicted:    cat  ship   car  ship\n",
            "Accuracy of the network on the 10000 test images: 53 %\n",
            "Accuracy of plane : 43 %\n",
            "Accuracy of   car : 84 %\n",
            "Accuracy of  bird : 42 %\n",
            "Accuracy of   cat : 43 %\n",
            "Accuracy of  deer : 28 %\n",
            "Accuracy of   dog : 25 %\n",
            "Accuracy of  frog : 75 %\n",
            "Accuracy of horse : 68 %\n",
            "Accuracy of  ship : 79 %\n",
            "Accuracy of truck : 47 %\n"
          ],
          "name": "stdout"
        }
      ]
    },
    {
      "cell_type": "markdown",
      "metadata": {
        "id": "nYPW3ZmvupBm",
        "colab_type": "text"
      },
      "source": [
        "### Training on GPU"
      ]
    },
    {
      "cell_type": "code",
      "metadata": {
        "id": "jk61uSLMurMd",
        "colab_type": "code",
        "colab": {
          "base_uri": "https://localhost:8080/",
          "height": 34
        },
        "outputId": "15c3c717-e791-4d6d-aa59-543ddb97acc2"
      },
      "source": [
        "device = torch.device(\"cuda:0\" if torch.cuda.is_available() else \"cpu\")\n",
        "\n",
        "# Assuming that we are on a CUDA machine, this should print a CUDA device:\n",
        "\n",
        "print(device)\n",
        "net.to(device)\n",
        "inputs, labels = data[0].to(device), data[1].to(device)\n"
      ],
      "execution_count": null,
      "outputs": [
        {
          "output_type": "stream",
          "text": [
            "cpu\n"
          ],
          "name": "stdout"
        }
      ]
    },
    {
      "cell_type": "code",
      "metadata": {
        "id": "9_2zAYb2yR9K",
        "colab_type": "code",
        "colab": {}
      },
      "source": [
        ""
      ],
      "execution_count": null,
      "outputs": []
    }
  ]
}